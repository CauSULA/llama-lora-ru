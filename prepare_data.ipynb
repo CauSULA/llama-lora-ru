{
 "cells": [
  {
   "cell_type": "code",
   "execution_count": 32,
   "id": "f91b441e-e16b-4b9e-9b69-d85043f7233c",
   "metadata": {},
   "outputs": [],
   "source": [
    "from datasets import load_dataset, load_from_disk\n",
    "from collections import defaultdict\n",
    "import random\n",
    "import tqdm"
   ]
  },
  {
   "cell_type": "code",
   "execution_count": 3,
   "id": "b4833ea0-41db-4235-b05b-03371a26f5cb",
   "metadata": {},
   "outputs": [
    {
     "name": "stderr",
     "output_type": "stream",
     "text": [
      "No config specified, defaulting to: rulm/default\n",
      "Found cached dataset rulm (/home/jovyan/.cache/huggingface/datasets/IlyaGusev___rulm/default/0.0.1/c94da05286e8839c1219f9a5061c630709a487fb298427a6f5a73ee0fe2cd2cb)\n"
     ]
    },
    {
     "data": {
      "application/vnd.jupyter.widget-view+json": {
       "model_id": "c7520a46cd43454baf314e98fee0e375",
       "version_major": 2,
       "version_minor": 0
      },
      "text/plain": [
       "  0%|          | 0/3 [00:00<?, ?it/s]"
      ]
     },
     "metadata": {},
     "output_type": "display_data"
    }
   ],
   "source": [
    "dataset = load_dataset(\"IlyaGusev/rulm\")"
   ]
  },
  {
   "cell_type": "code",
   "execution_count": 225,
   "id": "835398f7-87c2-42e3-9dce-c3c672e095cb",
   "metadata": {},
   "outputs": [],
   "source": [
    "i = 0\n",
    "for s in dataset[\"train\"]:\n",
    "    if s[\"meta\"][\"source\"] == \"librusec\":\n",
    "        if i == 297:\n",
    "            # print(s[\"text\"])\n",
    "            break\n",
    "        i += 1"
   ]
  },
  {
   "cell_type": "code",
   "execution_count": 4,
   "id": "a0dc3474-09f8-45ac-baf7-105efce9e715",
   "metadata": {},
   "outputs": [
    {
     "name": "stderr",
     "output_type": "stream",
     "text": [
      "Loading cached processed dataset at /home/jovyan/.cache/huggingface/datasets/IlyaGusev___rulm/default/0.0.1/c94da05286e8839c1219f9a5061c630709a487fb298427a6f5a73ee0fe2cd2cb/cache-06a3d6f1322569ec.arrow\n",
      "Loading cached processed dataset at /home/jovyan/.cache/huggingface/datasets/IlyaGusev___rulm/default/0.0.1/c94da05286e8839c1219f9a5061c630709a487fb298427a6f5a73ee0fe2cd2cb/cache-6749c8629a964007.arrow\n",
      "Loading cached processed dataset at /home/jovyan/.cache/huggingface/datasets/IlyaGusev___rulm/default/0.0.1/c94da05286e8839c1219f9a5061c630709a487fb298427a6f5a73ee0fe2cd2cb/cache-f27c9c5a803bed04.arrow\n"
     ]
    }
   ],
   "source": [
    "dataset_filtered = dataset.filter(lambda x: x[\"meta\"][\"source\"] not in (\"pikabu\", \"wiki\"))"
   ]
  },
  {
   "cell_type": "code",
   "execution_count": 5,
   "id": "9870cec7-1ab2-4f93-bab1-3e7ae651386b",
   "metadata": {},
   "outputs": [
    {
     "name": "stderr",
     "output_type": "stream",
     "text": [
      "100%|██████████| 10943685/10943685 [13:21<00:00, 13656.99it/s]\n"
     ]
    }
   ],
   "source": [
    "sources = [(s[\"meta\"][\"source\"], len(s[\"text\"])) for s in tqdm.tqdm(dataset_filtered[\"train\"], total=dataset_filtered[\"train\"].num_rows)]"
   ]
  },
  {
   "cell_type": "code",
   "execution_count": 7,
   "id": "0720381c-048e-4fed-a68e-7d122b8f631d",
   "metadata": {},
   "outputs": [
    {
     "name": "stderr",
     "output_type": "stream",
     "text": [
      "100%|██████████| 10943685/10943685 [00:06<00:00, 1750946.59it/s]\n"
     ]
    }
   ],
   "source": [
    "source_texts = defaultdict(list)\n",
    "\n",
    "for i, (src, text_len) in tqdm.tqdm(enumerate(sources), total=len(sources)):\n",
    "    source_texts[src].append((i, text_len))"
   ]
  },
  {
   "cell_type": "code",
   "execution_count": 9,
   "id": "c3ecdcbe-af7c-4b21-bd03-a6ee9abd7a1a",
   "metadata": {},
   "outputs": [
    {
     "name": "stderr",
     "output_type": "stream",
     "text": [
      "\n",
      "100%|██████████| 10/10 [00:00<00:00, 169125.16it/s]\n",
      "\n",
      "  0%|          | 0/10 [00:00<?, ?it/s]\u001b[A\n",
      " 10%|█         | 1/10 [00:00<00:03,  2.73it/s]\u001b[A\n",
      " 20%|██        | 2/10 [00:00<00:03,  2.42it/s]\u001b[A\n",
      " 30%|███       | 3/10 [00:00<00:02,  3.48it/s]\u001b[A\n",
      " 50%|█████     | 5/10 [00:01<00:00,  5.64it/s]\u001b[A\n",
      " 60%|██████    | 6/10 [00:01<00:00,  4.89it/s]\u001b[A\n",
      " 70%|███████   | 7/10 [00:01<00:00,  4.35it/s]\u001b[A\n",
      "100%|██████████| 10/10 [00:01<00:00,  5.04it/s][A\n"
     ]
    }
   ],
   "source": [
    "source_texts_count = {s: len(texts) for s, texts in tqdm.tqdm(source_texts.items())}\n",
    "source_texts_len = {s: sum(map(lambda x: x[1], texts)) for s, texts in tqdm.tqdm(source_texts.items())}"
   ]
  },
  {
   "cell_type": "code",
   "execution_count": 11,
   "id": "d24f910a-adf2-4607-ac13-37680b7f5d80",
   "metadata": {},
   "outputs": [
    {
     "data": {
      "text/plain": [
       "{'lenta': 748299,\n",
       " 'stihi': 5099823,\n",
       " 'stackoverflow': 419383,\n",
       " 'habr': 294461,\n",
       " 'taiga_fontanka': 315449,\n",
       " 'librusec': 1398319,\n",
       " 'buriy': 1494355,\n",
       " 'ods_tass': 1104120,\n",
       " 'gazeta': 58447,\n",
       " 'math': 11029}"
      ]
     },
     "execution_count": 11,
     "metadata": {},
     "output_type": "execute_result"
    }
   ],
   "source": [
    "source_texts_count"
   ]
  },
  {
   "cell_type": "code",
   "execution_count": 23,
   "id": "ce86736c-0557-47f9-b5f2-4ea05e99911c",
   "metadata": {},
   "outputs": [
    {
     "data": {
      "text/plain": [
       "<BarContainer object of 10 artists>"
      ]
     },
     "execution_count": 23,
     "metadata": {},
     "output_type": "execute_result"
    },
    {
     "data": {
      "image/png": "[encoded data removed]",
      "text/plain": [
       "<Figure size 1200x480 with 1 Axes>"
      ]
     },
     "metadata": {},
     "output_type": "display_data"
    }
   ],
   "source": [
    "import matplotlib.pyplot as plt\n",
    "\n",
    "plt.figure(figsize=(15, 6), dpi=80)\n",
    "plt.bar(source_texts_count.keys(), source_texts_count.values(), 0.5)"
   ]
  },
  {
   "cell_type": "code",
   "execution_count": 198,
   "id": "20dcd98d-a5c9-46de-bca5-f4914feb6f6c",
   "metadata": {},
   "outputs": [
    {
     "data": {
      "text/plain": [
       "<BarContainer object of 10 artists>"
      ]
     },
     "execution_count": 198,
     "metadata": {},
     "output_type": "execute_result"
    },
    {
     "data": {
      "image/png": "[encoded data removed]",
      "text/plain": [
       "<Figure size 1200x480 with 1 Axes>"
      ]
     },
     "metadata": {},
     "output_type": "display_data"
    }
   ],
   "source": [
    "plt.figure(figsize=(15, 6), dpi=80)\n",
    "plt.bar(source_texts_len.keys(), source_texts_len.values(), 0.5)"
   ]
  },
  {
   "cell_type": "code",
   "execution_count": 199,
   "id": "06593519-f693-49f5-b28c-6e2a049ad5c5",
   "metadata": {},
   "outputs": [],
   "source": [
    "def sample_indices(source_percentage: dict[str, float]):\n",
    "    chosen_indices = {}\n",
    "\n",
    "    for source, percent in source_percentage.items():\n",
    "        source_samples = int(len(source_texts[source]) * percent)\n",
    "        chosen_indices[source] = random.sample(source_texts[source], source_samples)\n",
    "\n",
    "    return chosen_indices"
   ]
  },
  {
   "cell_type": "code",
   "execution_count": 206,
   "id": "1e85f710-738a-4d2c-bbe0-e595d0c134f3",
   "metadata": {},
   "outputs": [],
   "source": [
    "source_percentage = {\n",
    "    \"lenta\": 0.15,\n",
    "    \"stihi\": 0.1,\n",
    "    \"stackoverflow\": 0.8,\n",
    "    \"habr\": 0.2,\n",
    "    \"taiga_fontanka\": 0.5,\n",
    "    \"librusec\": 0.1,\n",
    "    \"buriy\": 0.08,\n",
    "    \"ods_tass\": 0.12,\n",
    "    \"gazeta\": 0.5,\n",
    "    \"math\": 0.28,\n",
    "}"
   ]
  },
  {
   "cell_type": "code",
   "execution_count": 207,
   "id": "3c2cb5a0-c3aa-4965-b82d-2ddc85e2a67c",
   "metadata": {},
   "outputs": [
    {
     "data": {
      "text/plain": [
       "335506.4"
      ]
     },
     "execution_count": 207,
     "metadata": {},
     "output_type": "execute_result"
    }
   ],
   "source": [
    "source_texts_count[\"stackoverflow\"] * source_percentage[\"stackoverflow\"]"
   ]
  },
  {
   "cell_type": "code",
   "execution_count": 208,
   "id": "2f4bf03e-4ab0-41b5-a81f-8af3f737315d",
   "metadata": {},
   "outputs": [
    {
     "data": {
      "text/plain": [
       "551235.65"
      ]
     },
     "execution_count": 208,
     "metadata": {},
     "output_type": "execute_result"
    }
   ],
   "source": [
    "source_texts_count[\"lenta\"] * source_percentage[\"lenta\"] + source_texts_count[\"taiga_fontanka\"] * source_percentage[\"taiga_fontanka\"] + \\\n",
    "    source_texts_count[\"ods_tass\"] * source_percentage[\"ods_tass\"] + source_texts_count[\"buriy\"] * source_percentage[\"buriy\"] + \\\n",
    "    source_texts_count[\"gazeta\"] * source_percentage[\"gazeta\"]"
   ]
  },
  {
   "cell_type": "code",
   "execution_count": 209,
   "id": "8fecf60e-07c4-47ac-9088-607ead69c388",
   "metadata": {},
   "outputs": [],
   "source": [
    "chosen_indices = sample_indices(source_percentage)"
   ]
  },
  {
   "cell_type": "code",
   "execution_count": 220,
   "id": "9bb3ece3-efea-4178-8804-8f8db0633b58",
   "metadata": {},
   "outputs": [
    {
     "data": {
      "text/plain": [
       "{'lenta': 149715465,\n",
       " 'stihi': 295809244,\n",
       " 'stackoverflow': 849608472,\n",
       " 'habr': 1006100234,\n",
       " 'taiga_fontanka': 207969334,\n",
       " 'librusec': 1004078191,\n",
       " 'buriy': 208611522,\n",
       " 'ods_tass': 226031879,\n",
       " 'gazeta': 133107751,\n",
       " 'math': 273877993}"
      ]
     },
     "execution_count": 220,
     "metadata": {},
     "output_type": "execute_result"
    }
   ],
   "source": [
    "chosen_indices_len_dist"
   ]
  },
  {
   "cell_type": "code",
   "execution_count": 211,
   "id": "085c134b-962f-4a68-a737-3e60338b7959",
   "metadata": {},
   "outputs": [
    {
     "data": {
      "text/plain": [
       "<BarContainer object of 10 artists>"
      ]
     },
     "execution_count": 211,
     "metadata": {},
     "output_type": "execute_result"
    },
    {
     "data": {
      "image/png": "[encoded data removed]",
      "text/plain": [
       "<Figure size 1200x480 with 1 Axes>"
      ]
     },
     "metadata": {},
     "output_type": "display_data"
    }
   ],
   "source": [
    "plt.figure(figsize=(15, 6), dpi=80)\n",
    "\n",
    "chosen_indices_len_dist = {s: sum(map(lambda x: x[1], texts)) for s, texts in chosen_indices.items()}\n",
    "\n",
    "plt.bar(chosen_indices_len_dist.keys(), chosen_indices_len_dist.values(), 0.5)"
   ]
  },
  {
   "cell_type": "code",
   "execution_count": 212,
   "id": "6c2c8f77-5388-4897-a63f-ecbbbc1caa76",
   "metadata": {},
   "outputs": [],
   "source": [
    "total_chosen_indices = []\n",
    "for s, texts in chosen_indices.items():\n",
    "    for i, text_len in texts:\n",
    "        total_chosen_indices.append(i)"
   ]
  },
  {
   "cell_type": "code",
   "execution_count": 213,
   "id": "e208cd39-5f2b-437e-8a12-87762cab8827",
   "metadata": {},
   "outputs": [
    {
     "data": {
      "text/plain": [
       "1598532"
      ]
     },
     "execution_count": 213,
     "metadata": {},
     "output_type": "execute_result"
    }
   ],
   "source": [
    "len(total_chosen_indices)"
   ]
  },
  {
   "cell_type": "code",
   "execution_count": 214,
   "id": "b6f0dbac-aa24-489a-99a5-b9318e6578c7",
   "metadata": {},
   "outputs": [],
   "source": [
    "selected_dataset = dataset_filtered[\"train\"].select(total_chosen_indices)"
   ]
  },
  {
   "cell_type": "code",
   "execution_count": 215,
   "id": "cfffdca7-43a5-443c-aba4-726b8c73addf",
   "metadata": {},
   "outputs": [],
   "source": [
    "selected_dataset = selected_dataset.shuffle(seed=42)"
   ]
  },
  {
   "cell_type": "code",
   "execution_count": 216,
   "id": "8a30fc21-0b76-4faf-b12e-db8dc0319b1c",
   "metadata": {},
   "outputs": [],
   "source": [
    "selected_dataset = selected_dataset.train_test_split(test_size=0.05)"
   ]
  },
  {
   "cell_type": "code",
   "execution_count": 218,
   "id": "72a8b30f-9ac4-4e62-ac93-758062d51b84",
   "metadata": {},
   "outputs": [
    {
     "data": {
      "application/vnd.jupyter.widget-view+json": {
       "model_id": "",
       "version_major": 2,
       "version_minor": 0
      },
      "text/plain": [
       "Saving the dataset (0/17 shards):   0%|          | 0/1518605 [00:00<?, ? examples/s]"
      ]
     },
     "metadata": {},
     "output_type": "display_data"
    },
    {
     "data": {
      "application/vnd.jupyter.widget-view+json": {
       "model_id": "",
       "version_major": 2,
       "version_minor": 0
      },
      "text/plain": [
       "Saving the dataset (0/1 shards):   0%|          | 0/79927 [00:00<?, ? examples/s]"
      ]
     },
     "metadata": {},
     "output_type": "display_data"
    }
   ],
   "source": [
    "selected_dataset.save_to_disk(\"filtered_dataset\")"
   ]
  },
  {
   "cell_type": "code",
   "execution_count": 219,
   "id": "08161cab-7eb0-41f3-a1fc-36a3983ad6b9",
   "metadata": {},
   "outputs": [
    {
     "name": "stdout",
     "output_type": "stream",
     "text": [
      "6.9G\tfiltered_dataset\n"
     ]
    }
   ],
   "source": [
    "!du -hs filtered_dataset"
   ]
  },
  {
   "cell_type": "code",
   "execution_count": 228,
   "id": "1198745a-29ef-4609-a58c-ab2611b27912",
   "metadata": {},
   "outputs": [],
   "source": [
    "from transformers import LlamaTokenizer\n",
    "tokenizer = LlamaTokenizer.from_pretrained(\"hf-internal-testing/llama-tokenizer\")"
   ]
  },
  {
   "cell_type": "code",
   "execution_count": 229,
   "id": "0afd813a-02ed-4ced-b1ad-b38b167de5ea",
   "metadata": {},
   "outputs": [],
   "source": [
    "def tokenize(prompt, add_eos_token=True):\n",
    "    result = tokenizer(prompt)\n",
    "    if (\n",
    "        result[\"input_ids\"][-1] != tokenizer.eos_token_id\n",
    "        and add_eos_token\n",
    "    ):\n",
    "        result[\"input_ids\"].append(tokenizer.eos_token_id)\n",
    "        result[\"attention_mask\"].append(1)\n",
    "\n",
    "    return result"
   ]
  },
  {
   "cell_type": "code",
   "execution_count": 244,
   "id": "25c3e159-1375-4a57-8737-f09a6445c0fc",
   "metadata": {},
   "outputs": [],
   "source": [
    "from itertools import chain"
   ]
  },
  {
   "cell_type": "code",
   "execution_count": 280,
   "id": "8b5d2434-2bdd-4021-a2d2-fe2711838d98",
   "metadata": {},
   "outputs": [],
   "source": [
    "def chunk_examples(examples, max_length):\n",
    "    input_ids_chunks = []\n",
    "    attention_mask_chunks = []\n",
    "    \n",
    "    input_ids = list(chain(*examples[\"input_ids\"]))\n",
    "    attention_mask = list(chain(*examples[\"attention_mask\"]))\n",
    "    input_ids_chunks.extend(\n",
    "        [\n",
    "            input_ids[i : i + max_length]\n",
    "            for i in range(0, len(input_ids), max_length)\n",
    "        ]\n",
    "    )\n",
    "    attention_mask_chunks.extend(\n",
    "        [\n",
    "            attention_mask[i : i + max_length]\n",
    "            for i in range(0, len(attention_mask), max_length)\n",
    "        ]\n",
    "    )\n",
    "    \n",
    "    return {\n",
    "        \"input_ids\": input_ids_chunks,\n",
    "        \"attention_mask\": attention_mask_chunks,\n",
    "    }"
   ]
  },
  {
   "cell_type": "code",
   "execution_count": 281,
   "id": "21f82880-35ad-4db5-bcd7-2d7547912c93",
   "metadata": {},
   "outputs": [
    {
     "data": {
      "text/plain": [
       "DatasetDict({\n",
       "    train: Dataset({\n",
       "        features: ['text', 'meta'],\n",
       "        num_rows: 1518605\n",
       "    })\n",
       "    test: Dataset({\n",
       "        features: ['text', 'meta'],\n",
       "        num_rows: 79927\n",
       "    })\n",
       "})"
      ]
     },
     "execution_count": 281,
     "metadata": {},
     "output_type": "execute_result"
    }
   ],
   "source": [
    "selected_dataset"
   ]
  },
  {
   "cell_type": "code",
   "execution_count": 282,
   "id": "60cd0617-a5ff-479f-a54d-27440855512d",
   "metadata": {},
   "outputs": [],
   "source": [
    "def prepare_dataset(dataset, num_proc=8, max_seq_len=512, tokenizer_bs=100):\n",
    "    tokenized_dataset = dataset.map(lambda x: tokenize(x['text']),\n",
    "                                    num_proc=num_proc, remove_columns=[\"meta\"])\n",
    "    \n",
    "    chunk_dataset = tokenized_dataset.map(lambda x: chunk_examples(x, max_seq_len), \n",
    "                                          batched=True, \n",
    "                                          batch_size=tokenizer_bs,\n",
    "                                          num_proc=num_proc,\n",
    "                                          remove_columns=[\"text\"])\n",
    "    return tokenized_dataset, chunk_dataset"
   ]
  },
  {
   "cell_type": "code",
   "execution_count": 285,
   "id": "cc7e4873-7bb4-4160-b600-e70ab0e15687",
   "metadata": {},
   "outputs": [
    {
     "name": "stderr",
     "output_type": "stream",
     "text": [
      "Loading cached processed dataset at /home/jovyan/.cache/huggingface/datasets/IlyaGusev___rulm/default/0.0.1/c94da05286e8839c1219f9a5061c630709a487fb298427a6f5a73ee0fe2cd2cb/cache-3636ca769c33250c_*_of_00008.arrow\n",
      "Loading cached processed dataset at /home/jovyan/.cache/huggingface/datasets/IlyaGusev___rulm/default/0.0.1/c94da05286e8839c1219f9a5061c630709a487fb298427a6f5a73ee0fe2cd2cb/cache-f297281e270daca3_*_of_00008.arrow\n",
      "Loading cached processed dataset at /home/jovyan/.cache/huggingface/datasets/IlyaGusev___rulm/default/0.0.1/c94da05286e8839c1219f9a5061c630709a487fb298427a6f5a73ee0fe2cd2cb/cache-c8615b0feb2e05ef_*_of_00008.arrow\n"
     ]
    },
    {
     "data": {
      "application/vnd.jupyter.widget-view+json": {
       "model_id": "",
       "version_major": 2,
       "version_minor": 0
      },
      "text/plain": [
       "Map (num_proc=8):   0%|          | 0/79927 [00:00<?, ? examples/s]"
      ]
     },
     "metadata": {},
     "output_type": "display_data"
    }
   ],
   "source": [
    "tokenized_dataset = prepare_dataset(selected_dataset)"
   ]
  },
  {
   "cell_type": "code",
   "execution_count": 287,
   "id": "49c8bed4-9271-435a-9e2e-c040aaa55af5",
   "metadata": {},
   "outputs": [
    {
     "data": {
      "text/plain": [
       "(DatasetDict({\n",
       "     train: Dataset({\n",
       "         features: ['text', 'input_ids', 'attention_mask'],\n",
       "         num_rows: 1518605\n",
       "     })\n",
       "     test: Dataset({\n",
       "         features: ['text', 'input_ids', 'attention_mask'],\n",
       "         num_rows: 79927\n",
       "     })\n",
       " }),\n",
       " DatasetDict({\n",
       "     train: Dataset({\n",
       "         features: ['input_ids', 'attention_mask'],\n",
       "         num_rows: 3204080\n",
       "     })\n",
       "     test: Dataset({\n",
       "         features: ['input_ids', 'attention_mask'],\n",
       "         num_rows: 170263\n",
       "     })\n",
       " }))"
      ]
     },
     "execution_count": 287,
     "metadata": {},
     "output_type": "execute_result"
    }
   ],
   "source": [
    "tokenized_dataset"
   ]
  },
  {
   "cell_type": "code",
   "execution_count": 290,
   "id": "c81049a7-38c2-4d4d-bc07-1908082402ce",
   "metadata": {},
   "outputs": [
    {
     "data": {
      "application/vnd.jupyter.widget-view+json": {
       "model_id": "",
       "version_major": 2,
       "version_minor": 0
      },
      "text/plain": [
       "Saving the dataset (0/17 shards):   0%|          | 0/3204080 [00:00<?, ? examples/s]"
      ]
     },
     "metadata": {},
     "output_type": "display_data"
    },
    {
     "data": {
      "application/vnd.jupyter.widget-view+json": {
       "model_id": "",
       "version_major": 2,
       "version_minor": 0
      },
      "text/plain": [
       "Saving the dataset (0/1 shards):   0%|          | 0/170263 [00:00<?, ? examples/s]"
      ]
     },
     "metadata": {},
     "output_type": "display_data"
    }
   ],
   "source": [
    "tokenized_dataset[1].save_to_disk(\"filtered_tokenized_dataset\")"
   ]
  },
  {
   "cell_type": "code",
   "execution_count": 291,
   "id": "1418f7b2-dc73-4c75-86dc-56b8d40929ae",
   "metadata": {},
   "outputs": [
    {
     "name": "stdout",
     "output_type": "stream",
     "text": [
      "lol\n"
     ]
    }
   ],
   "source": [
    "print(\"lol\")"
   ]
  },
  {
   "cell_type": "code",
   "execution_count": 289,
   "id": "d39d07e5-9bdb-4ecc-ae47-1ed5716680a8",
   "metadata": {},
   "outputs": [
    {
     "name": "stdout",
     "output_type": "stream",
     "text": [
      "Untitled.ipynb\t  logs\t\t      requirements.txt\ttrain.ipynb\n",
      "chunk_dataset\t  mlruns\t      test.ipynb\ttrained\n",
      "filtered_dataset  prepare_data.ipynb  train-new.py\tzero_config.json\n"
     ]
    }
   ],
   "source": [
    "!ls"
   ]
  },
  {
   "cell_type": "code",
   "execution_count": null,
   "id": "b6e70cc5-b0ea-4036-b83d-dfb0a31cfc3a",
   "metadata": {},
   "outputs": [],
   "source": []
  }
 ],
 "metadata": {
  "kernelspec": {
   "display_name": "Python 3 (ipykernel)",
   "language": "python",
   "name": "python3"
  },
  "language_info": {
   "codemirror_mode": {
    "name": "ipython",
    "version": 3
   },
   "file_extension": ".py",
   "mimetype": "text/x-python",
   "name": "python",
   "nbconvert_exporter": "python",
   "pygments_lexer": "ipython3",
   "version": "3.9.16"
  }
 },
 "nbformat": 4,
 "nbformat_minor": 5
}
